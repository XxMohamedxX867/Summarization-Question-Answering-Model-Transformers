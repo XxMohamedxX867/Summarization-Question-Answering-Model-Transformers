{
 "cells": [
  {
   "cell_type": "code",
   "execution_count": 8,
   "id": "39754703",
   "metadata": {},
   "outputs": [],
   "source": [
    "from transformers import pipeline"
   ]
  },
  {
   "cell_type": "markdown",
   "id": "42e2a8a1",
   "metadata": {},
   "source": [
    "## One Model For Summarization & Question Answering"
   ]
  },
  {
   "cell_type": "code",
   "execution_count": 5,
   "id": "e6b02a4c",
   "metadata": {},
   "outputs": [
    {
     "name": "stderr",
     "output_type": "stream",
     "text": [
      "Device set to use cpu\n"
     ]
    }
   ],
   "source": [
    "flan = pipeline(\"text2text-generation\", model=\"google/flan-t5-small\")"
   ]
  },
  {
   "cell_type": "markdown",
   "id": "f8d1d949",
   "metadata": {},
   "source": [
    "#### Summarization\n"
   ]
  },
  {
   "cell_type": "code",
   "execution_count": null,
   "id": "cf1d9d32",
   "metadata": {},
   "outputs": [
    {
     "name": "stderr",
     "output_type": "stream",
     "text": [
      "Both `max_new_tokens` (=256) and `max_length`(=50) seem to have been set. `max_new_tokens` will take precedence. Please refer to the documentation for more information. (https://huggingface.co/docs/transformers/main/en/main_classes/text_generation)\n"
     ]
    },
    {
     "name": "stdout",
     "output_type": "stream",
     "text": [
      "Summary: Hugging Face is a company that develops tools for building applications using machine learning.\n"
     ]
    }
   ],
   "source": [
    "text = \"\"\"\n",
    "Hugging Face is a company that develops tools for building applications using machine learning. \n",
    "It is based in New York City and was founded in 2016.\n",
    "\"\"\"\n",
    "summary = flan(f\"Summarize: {text}\", max_length=50)\n",
    "print(\"Summary:\", summary[0]['generated_text'])\n"
   ]
  },
  {
   "cell_type": "markdown",
   "id": "e45842e9",
   "metadata": {},
   "source": [
    "#### Question Answering\n"
   ]
  },
  {
   "cell_type": "code",
   "execution_count": null,
   "id": "de5416ee",
   "metadata": {},
   "outputs": [],
   "source": [
    "question = \"Where is Hugging Face based?\"\n",
    "answer = flan(f\"Answer the question based on the text: {text}\\nQuestion: {question}\")\n",
    "print(\"Answer:\", answer[0]['generated_text'])"
   ]
  },
  {
   "cell_type": "markdown",
   "id": "7063d913",
   "metadata": {},
   "source": [
    "----"
   ]
  },
  {
   "cell_type": "markdown",
   "id": "c7c8ef0a",
   "metadata": {},
   "source": [
    "## Two Separated models"
   ]
  },
  {
   "cell_type": "markdown",
   "id": "fde7b4eb",
   "metadata": {},
   "source": [
    "#### Summarization\n"
   ]
  },
  {
   "cell_type": "code",
   "execution_count": null,
   "id": "beed4e26",
   "metadata": {},
   "outputs": [
    {
     "name": "stderr",
     "output_type": "stream",
     "text": [
      "Device set to use cpu\n"
     ]
    },
    {
     "name": "stdout",
     "output_type": "stream",
     "text": [
      "[{'summary_text': ' Artificial intelligence is a branch of computer science focused on building machines capable of performing tasks that typically require human intelligence . These tasks include learning,'}]\n"
     ]
    }
   ],
   "source": [
    "summarizer = pipeline(\"summarization\", model=\"sshleifer/distilbart-cnn-12-6\")\n",
    "\n",
    "text = \"\"\"\n",
    "Artificial intelligence (AI) is a branch of computer science focused on building machines capable of performing tasks that typically require human intelligence.\n",
    "These tasks include learning, reasoning, problem-solving, perception, and natural language understanding.\n",
    "AI technologies are already used in self-driving cars, medical diagnosis, and personalized recommendations.\n",
    "\"\"\"\n",
    "\n",
    "print(summarizer(text, max_length=30, min_length=10, do_sample=False))"
   ]
  },
  {
   "cell_type": "markdown",
   "id": "02499c2a",
   "metadata": {},
   "source": [
    "#### Question Answering\n"
   ]
  },
  {
   "cell_type": "code",
   "execution_count": null,
   "id": "b3b52ab2",
   "metadata": {},
   "outputs": [],
   "source": [
    "qa_pipeline = pipeline(\"question-answering\", model=\"distilbert-base-uncased-distilled-squad\")\n",
    "\n",
    "context = \"Hugging Face is a company based in New York City.\"\n",
    "question = \"Where is Hugging Face based?\"\n",
    "print(qa_pipeline(question=question, context=context))"
   ]
  }
 ],
 "metadata": {
  "kernelspec": {
   "display_name": "env_QA",
   "language": "python",
   "name": "python3"
  },
  "language_info": {
   "codemirror_mode": {
    "name": "ipython",
    "version": 3
   },
   "file_extension": ".py",
   "mimetype": "text/x-python",
   "name": "python",
   "nbconvert_exporter": "python",
   "pygments_lexer": "ipython3",
   "version": "3.13.6"
  }
 },
 "nbformat": 4,
 "nbformat_minor": 5
}
